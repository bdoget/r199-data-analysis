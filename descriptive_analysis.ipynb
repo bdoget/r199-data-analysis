{
 "cells": [
  {
   "cell_type": "code",
   "execution_count": null,
   "metadata": {},
   "outputs": [],
   "source": [
    "import pandas as pd\n",
    "import matplotlib.pyplot as plt\n",
    "import seaborn as sns \n",
    "import numpy as np\n",
    "import json"
   ]
  },
  {
   "cell_type": "code",
   "execution_count": null,
   "metadata": {},
   "outputs": [],
   "source": [
    "# Load data, aggregates, and centroids\n",
    "\n",
    "from data_utils import loadR199, loadAggregates\n",
    "df, dfnorm = loadR199()\n",
    "r_quant, t_quant, t_qual = loadAggregates()\n",
    "\n",
    "centroids = pd.read_csv(\"data/BirchClusters.csv\",index_col=\"Cluster\")\n",
    "cluster_arr = json.load(open(\"data/Birch_cluster_numbers.json\"))\n",
    "cluster_arr = np.array(cluster_arr)"
   ]
  },
  {
   "cell_type": "code",
   "execution_count": null,
   "metadata": {},
   "outputs": [],
   "source": [
    "from data_utils import groupByQuartile, count_quartiles\n",
    "\n",
    "df_closest_quartiles = groupByQuartile(dfnorm, centroids, out_file=\"data/closest_quartiles.csv\")\n",
    "\n",
    "count_t_qual = count_quartiles(df_closest_quartiles, t_qual)\n",
    "count_t_quant = count_quartiles(df_closest_quartiles, t_quant)\n",
    "count_r_quant = count_quartiles(df_closest_quartiles, r_quant)"
   ]
  },
  {
   "cell_type": "code",
   "execution_count": null,
   "metadata": {},
   "outputs": [],
   "source": [
    "print(\"Number of Occurences per Cluster\")\n",
    "for i in range(max(cluster_arr)):\n",
    "    print(i, \":\", len(dfnorm[cluster_arr==i]))"
   ]
  },
  {
   "cell_type": "code",
   "execution_count": null,
   "metadata": {},
   "outputs": [],
   "source": [
    "print(\"Teaching Quality\")\n",
    "count_t_qual"
   ]
  },
  {
   "cell_type": "code",
   "execution_count": null,
   "metadata": {},
   "outputs": [],
   "source": [
    "print(\"Teaching Quantity\")\n",
    "count_t_quant"
   ]
  },
  {
   "cell_type": "code",
   "execution_count": null,
   "metadata": {},
   "outputs": [],
   "source": [
    "print(\"Research Quantity\")\n",
    "count_r_quant"
   ]
  },
  {
   "cell_type": "code",
   "execution_count": null,
   "metadata": {},
   "outputs": [],
   "source": [
    "# Description for 4 clusters (BIRCH)\n",
    "\n",
    "# Cluster 0, high researching quantity, high teaching quantity, avg teaching quality\n",
    "# Cluster 1, high researching quantity, low teaching quantity, very low teaching quality\n",
    "# Cluster 2, very high reseaching quantity, avg teaching quantity, above average teaching quality\n",
    "# Cluster 3, low research quantity, Not a lot of teaching quantity, even teaching quality\n",
    "\n",
    "# Cluster 0 is professors who teach and research a lot but sacrifice overall teaching quality                   Count: 576\n",
    "# Cluster 1 is profs who mainly focus on research, not much teaching nor quality                                Count: 110\n",
    "# Cluster 2 is profs who emphasize research volume but also maintains quality in teaching                       Count: 50\n",
    "# Cluster 3 is profs who don't research a lot nor teach a lot, but still teach well in the classes they teach   Count: 2\n"
   ]
  },
  {
   "cell_type": "code",
   "execution_count": null,
   "metadata": {},
   "outputs": [],
   "source": []
  }
 ],
 "metadata": {
  "kernelspec": {
   "display_name": "Python 3",
   "language": "python",
   "name": "python3"
  },
  "language_info": {
   "codemirror_mode": {
    "name": "ipython",
    "version": 3
   },
   "file_extension": ".py",
   "mimetype": "text/x-python",
   "name": "python",
   "nbconvert_exporter": "python",
   "pygments_lexer": "ipython3",
   "version": "3.12.2"
  }
 },
 "nbformat": 4,
 "nbformat_minor": 2
}
