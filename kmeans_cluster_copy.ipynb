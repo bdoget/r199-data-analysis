{
 "cells": [
  {
   "cell_type": "markdown",
   "metadata": {},
   "source": [
    "# Clustering r199 data for teacher evaluation"
   ]
  },
  {
   "cell_type": "code",
   "execution_count": null,
   "metadata": {},
   "outputs": [],
   "source": [
    "import pandas as pd\n",
    "from sklearn.cluster import KMeans\n",
    "import matplotlib.pyplot as plt\n",
    "import seaborn as sns \n",
    "import numpy as np\n",
    "\n",
    "from sklearn.decomposition import KernelPCA\n",
    "from sklearn.decomposition import PCA"
   ]
  },
  {
   "cell_type": "code",
   "execution_count": null,
   "metadata": {},
   "outputs": [],
   "source": [
    "df = pd.read_excel(\"R199_Data.xlsx\")\n",
    "df.head()"
   ]
  },
  {
   "cell_type": "code",
   "execution_count": null,
   "metadata": {},
   "outputs": [],
   "source": [
    "from sklearn import preprocessing\n",
    "\n",
    "df = df.fillna(0)\n",
    "# sc_X = preprocessing.StandardScaler()\n",
    "sc_X = preprocessing.MinMaxScaler()\n",
    "dfnorm = pd.DataFrame(sc_X.fit_transform(df))\n",
    "dfnorm.columns = df.columns.values\n"
   ]
  },
  {
   "cell_type": "code",
   "execution_count": null,
   "metadata": {},
   "outputs": [],
   "source": [
    "X = dfnorm.copy()\n",
    "wcss = []\n",
    "k = 30\n",
    "for i in range(1, k+1):\n",
    "    kmeans = KMeans(n_clusters=i, init= 'k-means++', random_state=42)\n",
    "    kmeans.fit(X)\n",
    "    wcss.append(kmeans.inertia_)\n",
    "\n",
    "sns.set_theme()\n",
    "plt.plot(range(1, k+1), wcss)\n",
    "plt.title('The Elbow Method')\n",
    "plt.xlabel('Number of clusters')\n",
    "plt.ylabel('WCSS')\n",
    "plt.show()\n"
   ]
  },
  {
   "cell_type": "code",
   "execution_count": null,
   "metadata": {},
   "outputs": [],
   "source": [
    "# Choose clustering amount\n",
    "n = 20\n",
    "kmeans = KMeans(n_clusters = n, init = 'k-means++', random_state = 0)\n",
    "y_kmeans = kmeans.fit_predict(X)\n"
   ]
  },
  {
   "cell_type": "code",
   "execution_count": null,
   "metadata": {},
   "outputs": [],
   "source": [
    "kpca = KernelPCA(n_components = 2, kernel = 'rbf')\n",
    "Xn = kpca.fit_transform(X)\n",
    "\n",
    "cm = plt.get_cmap('gist_rainbow')\n",
    "colors=[cm(1.0*i/n) for i in range(n)]\n",
    "\n",
    "for i in range(n):\n",
    "    plt.scatter(Xn[y_kmeans == i, 0], Xn[y_kmeans == i, 1], s = 100, color = colors[i])\n",
    "centroids_pca = np.transpose([np.mean(Xn[y_kmeans == i,:], axis=0) for i in range(n)])\n",
    "plt.scatter(centroids_pca[0, :], centroids_pca[1, :], s = 300, c = 'black', label = 'Centroids')\n",
    "\n",
    "plt.title('Clusters of areas with kpca')\n",
    "plt.xlabel('factor1')\n",
    "plt.ylabel('factor2')\n",
    "plt.legend()\n",
    "plt.show()"
   ]
  },
  {
   "cell_type": "code",
   "execution_count": null,
   "metadata": {},
   "outputs": [],
   "source": [
    "pca = PCA(n_components = 2)\n",
    "Xn = pca.fit_transform(X)\n",
    "\n",
    "cm = plt.get_cmap('gist_rainbow')\n",
    "colors=[cm(1.0*i/n) for i in range(n)]\n",
    "\n",
    "for i in range(n):\n",
    "    plt.scatter(Xn[y_kmeans == i, 0], Xn[y_kmeans == i, 1], s = 100, color = colors[i])\n",
    "centroids_pca = np.transpose([np.mean(Xn[y_kmeans == i,:], axis=0) for i in range(n)])\n",
    "plt.scatter(centroids_pca[0, :], centroids_pca[1, :], s = 300, c = 'black', label = 'Centroids')\n",
    "\n",
    "plt.title('Clusters of areas with pca')\n",
    "plt.xlabel('factor1')\n",
    "plt.ylabel('factor2')\n",
    "plt.legend()\n",
    "plt.show()"
   ]
  },
  {
   "cell_type": "code",
   "execution_count": null,
   "metadata": {},
   "outputs": [],
   "source": [
    "centroids = kmeans.cluster_centers_\n",
    "centroids\n",
    "# plt.scatter(kmeans.cluster_centers_[:, 0], kmeans.cluster_centers_[:, 1], s = 300, c = 'yellow', label = 'Centroids')"
   ]
  }
 ],
 "metadata": {
  "kernelspec": {
   "display_name": "Python 3",
   "language": "python",
   "name": "python3"
  },
  "language_info": {
   "codemirror_mode": {
    "name": "ipython",
    "version": 3
   },
   "file_extension": ".py",
   "mimetype": "text/x-python",
   "name": "python",
   "nbconvert_exporter": "python",
   "pygments_lexer": "ipython3",
   "version": "3.12.2"
  }
 },
 "nbformat": 4,
 "nbformat_minor": 2
}
