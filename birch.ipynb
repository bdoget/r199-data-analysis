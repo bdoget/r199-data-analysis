{
 "cells": [
  {
   "cell_type": "code",
   "execution_count": null,
   "metadata": {},
   "outputs": [],
   "source": [
    "import pandas as pd\n",
    "import matplotlib.pyplot as plt\n",
    "import seaborn as sns \n",
    "import numpy as np\n",
    "from data_utils import loadR199\n",
    "\n",
    "from sklearn.decomposition import KernelPCA\n",
    "from sklearn.decomposition import PCA\n",
    "from sklearn.cluster import Birch"
   ]
  },
  {
   "cell_type": "code",
   "execution_count": null,
   "metadata": {},
   "outputs": [],
   "source": [
    "from data_utils import loadR199\n",
    "df, dfnorm = loadR199()"
   ]
  },
  {
   "cell_type": "code",
   "execution_count": null,
   "metadata": {},
   "outputs": [],
   "source": [
    "# Dendrogram\n",
    "import numpy as np\n",
    "from scipy.cluster import hierarchy\n",
    "import matplotlib.pyplot as plt\n",
    "\n",
    "# Plot the hierarchical clustering as a dendrogram.\n",
    "dn = hierarchy.dendrogram(hierarchy.linkage(dfnorm, 'ward'))"
   ]
  },
  {
   "cell_type": "code",
   "execution_count": null,
   "metadata": {},
   "outputs": [],
   "source": [
    "from sklearn.metrics import silhouette_score\n",
    "\n",
    "X = dfnorm.copy()  # Your normalized dataset\n",
    "k = 15\n",
    "silhouette_scores = []\n",
    "n_clusters = range(2, k+1)  # Silhouette score is not defined for a single cluster\n",
    "\n",
    "for i in n_clusters:\n",
    "    model = Birch(branching_factor=50, n_clusters=i, threshold=1.5)\n",
    "    model.fit(X)\n",
    "    labels = model.predict(X)\n",
    "    \n",
    "    score = silhouette_score(X, labels)\n",
    "    silhouette_scores.append(score)\n",
    "\n",
    "# Plotting the silhouette scores\n",
    "plt.plot(n_clusters, silhouette_scores, 'bx-')\n",
    "plt.xlabel('Number of Clusters')\n",
    "plt.ylabel('Silhouette Score')\n",
    "plt.title('Silhouette Scores for BIRCH Clustering for n_clusters=2 to 20')\n",
    "plt.show()\n"
   ]
  },
  {
   "cell_type": "code",
   "execution_count": null,
   "metadata": {},
   "outputs": [],
   "source": [
    "n = 6\n",
    "model = Birch(branching_factor = 50, n_clusters = n, threshold = 1.5)\n",
    "X = dfnorm.copy()\n",
    "model.fit(X)\n",
    "cluster_arr = model.predict(X)"
   ]
  },
  {
   "cell_type": "code",
   "execution_count": null,
   "metadata": {},
   "outputs": [],
   "source": [
    "from data_utils import graphPCA \n",
    "graphPCA(X, n, cluster_arr)"
   ]
  },
  {
   "cell_type": "code",
   "execution_count": null,
   "metadata": {},
   "outputs": [],
   "source": [
    "from data_utils import graphKPCA \n",
    "graphKPCA(X, n, cluster_arr)"
   ]
  },
  {
   "cell_type": "code",
   "execution_count": null,
   "metadata": {},
   "outputs": [],
   "source": [
    "for i in range(n):\n",
    "    print(i, \":\",len( dfnorm[cluster_arr==i]))"
   ]
  },
  {
   "cell_type": "markdown",
   "metadata": {},
   "source": [
    "### Exporting Data"
   ]
  },
  {
   "cell_type": "code",
   "execution_count": null,
   "metadata": {},
   "outputs": [],
   "source": [
    "dfcopy = dfnorm.copy()\n",
    "dfcopy[\"Cluster\"] = cluster_arr\n",
    "centroids = dfcopy.groupby(\"Cluster\").mean()\n",
    "centroids.to_csv(\"data/BirchClusters.csv\")"
   ]
  },
  {
   "cell_type": "code",
   "execution_count": null,
   "metadata": {},
   "outputs": [],
   "source": [
    "import json\n",
    "cluster_nums = [int(elem) for elem in cluster_arr]\n",
    "with open('data/Birch_cluster_numbers.json', 'w') as f:\n",
    "    json.dump(cluster_nums, f)"
   ]
  }
 ],
 "metadata": {
  "kernelspec": {
   "display_name": "Python 3",
   "language": "python",
   "name": "python3"
  },
  "language_info": {
   "codemirror_mode": {
    "name": "ipython",
    "version": 3
   },
   "file_extension": ".py",
   "mimetype": "text/x-python",
   "name": "python",
   "nbconvert_exporter": "python",
   "pygments_lexer": "ipython3",
   "version": "3.12.2"
  }
 },
 "nbformat": 4,
 "nbformat_minor": 2
}
