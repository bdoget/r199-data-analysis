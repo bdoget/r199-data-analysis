{
 "cells": [
  {
   "cell_type": "markdown",
   "metadata": {},
   "source": [
    "# Clustering r199 data for teacher evaluation"
   ]
  },
  {
   "cell_type": "code",
   "execution_count": null,
   "metadata": {},
   "outputs": [],
   "source": [
    "import pandas as pd\n",
    "from sklearn.cluster import KMeans\n",
    "import matplotlib.pyplot as plt\n",
    "import seaborn as sns \n",
    "import numpy as np\n",
    "\n",
    "from sklearn.decomposition import KernelPCA\n",
    "from sklearn.decomposition import PCA"
   ]
  },
  {
   "cell_type": "code",
   "execution_count": null,
   "metadata": {},
   "outputs": [],
   "source": [
    "df = pd.read_excel(\"R199_Data.xlsx\")\n",
    "df.head()"
   ]
  },
  {
   "cell_type": "code",
   "execution_count": null,
   "metadata": {},
   "outputs": [],
   "source": [
    "from sklearn import preprocessing\n",
    "\n",
    "df = df.fillna(0)\n",
    "sc_X = preprocessing.StandardScaler()\n",
    "mm_X = preprocessing.MinMaxScaler()\n",
    "\n",
    "dfnorm = pd.DataFrame(sc_X.fit_transform(df))\n",
    "dfnorm.columns = df.columns.values\n"
   ]
  },
  {
   "cell_type": "code",
   "execution_count": null,
   "metadata": {},
   "outputs": [],
   "source": [
    "from sklearn.mixture import GaussianMixture\n",
    "from scipy.spatial.distance import cdist\n",
    "\n",
    "X = dfnorm.copy()\n",
    "k = 30\n",
    "meandist = []\n",
    "n_clusters = range(1,k+1)\n",
    "for i in range(1,k+1):\n",
    "    gmm = GaussianMixture(n_components=i,random_state=0)\n",
    "    gmm.fit(X)\n",
    "    meandist.append(\n",
    "        sum(\n",
    "        np.min(\n",
    "            cdist(X, gmm.means_, 'mahalanobis', VI=gmm.precisions_), \n",
    "            axis=1\n",
    "        ) / X.shape[0]\n",
    "        )\n",
    "    )\n",
    "plt.plot(n_clusters,meandist,'bx-')\n",
    "plt.xlabel('Number of Clusters') \n",
    "plt.ylabel('Mean Mahalanobis Distance') \n",
    "plt.title('GMM Clustering for n_cluster=2 to 15')\n",
    "plt.yscale(\"log\")\n",
    "plt.show()\n"
   ]
  },
  {
   "cell_type": "code",
   "execution_count": null,
   "metadata": {},
   "outputs": [],
   "source": [
    "# Choose clustering amount\n",
    "n = 4\n",
    "gmm = GaussianMixture(n_components=n)\n",
    "y_kmeans = gmm.fit_predict(X)\n",
    "\n",
    "# silouette score\n"
   ]
  },
  {
   "cell_type": "code",
   "execution_count": null,
   "metadata": {},
   "outputs": [],
   "source": [
    "kpca = KernelPCA(n_components = 2, kernel = 'rbf')\n",
    "Xn = kpca.fit_transform(X)\n",
    "\n",
    "cm = plt.get_cmap('gist_rainbow')\n",
    "colors=[cm(1.0*i/n) for i in range(n)]\n",
    "\n",
    "for i in range(n):\n",
    "    plt.scatter(Xn[y_kmeans == i, 0], Xn[y_kmeans == i, 1], s = 100, color = colors[i])\n",
    "centroids_pca = np.transpose([np.mean(Xn[y_kmeans == i,:], axis=0) for i in range(n)])\n",
    "plt.scatter(centroids_pca[0, :], centroids_pca[1, :], s = 300, c = 'black', label = 'Centroids')\n",
    "\n",
    "plt.title('Clusters of areas with kpca')\n",
    "plt.xlabel('factor1')\n",
    "plt.ylabel('factor2')\n",
    "plt.legend()\n",
    "plt.show()"
   ]
  },
  {
   "cell_type": "code",
   "execution_count": null,
   "metadata": {},
   "outputs": [],
   "source": [
    "pca = PCA(n_components = 2)\n",
    "Xn = pca.fit_transform(X)\n",
    "\n",
    "cm = plt.get_cmap('gist_rainbow')\n",
    "colors=[cm(1.0*i/n) for i in range(n)]\n",
    "\n",
    "for i in range(n):\n",
    "    plt.scatter(Xn[y_kmeans == i, 0], Xn[y_kmeans == i, 1], s = 100, color = colors[i])\n",
    "centroids_pca = np.transpose([np.mean(Xn[y_kmeans == i,:], axis=0) for i in range(n)])\n",
    "plt.scatter(centroids_pca[0, :], centroids_pca[1, :], s = 300, c = 'black', label = 'Centroids')\n",
    "\n",
    "plt.title('Clusters of areas with pca')\n",
    "plt.xlabel('factor1')\n",
    "plt.ylabel('factor2')\n",
    "plt.legend()\n",
    "plt.show()"
   ]
  }
 ],
 "metadata": {
  "kernelspec": {
   "display_name": "Python 3",
   "language": "python",
   "name": "python3"
  },
  "language_info": {
   "codemirror_mode": {
    "name": "ipython",
    "version": 3
   },
   "file_extension": ".py",
   "mimetype": "text/x-python",
   "name": "python",
   "nbconvert_exporter": "python",
   "pygments_lexer": "ipython3",
   "version": "3.12.2"
  }
 },
 "nbformat": 4,
 "nbformat_minor": 2
}
