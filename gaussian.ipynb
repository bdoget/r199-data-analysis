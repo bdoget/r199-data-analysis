{
 "cells": [
  {
   "cell_type": "markdown",
   "metadata": {},
   "source": [
    "# Clustering r199 data for teacher evaluation"
   ]
  },
  {
   "cell_type": "code",
   "execution_count": null,
   "metadata": {},
   "outputs": [],
   "source": [
    "import pandas as pd\n",
    "import matplotlib.pyplot as plt\n",
    "import seaborn as sns \n",
    "import numpy as np\n",
    "\n",
    "from sklearn.decomposition import KernelPCA\n",
    "from sklearn.decomposition import PCA\n",
    "\n",
    "from data_utils import *\n"
   ]
  },
  {
   "cell_type": "code",
   "execution_count": null,
   "metadata": {},
   "outputs": [],
   "source": [
    "from data_utils import loadR199\n",
    "df, dfnorm = loadR199()"
   ]
  },
  {
   "cell_type": "code",
   "execution_count": null,
   "metadata": {},
   "outputs": [],
   "source": [
    "from sklearn.mixture import GaussianMixture\n",
    "from scipy.spatial.distance import cdist\n",
    "\n",
    "X = dfnorm.copy()\n",
    "k = 30\n",
    "meandist = []\n",
    "n_clusters = range(1,k+1)\n",
    "for i in range(1,k+1):\n",
    "    gmm = GaussianMixture(n_components=i,random_state=0)\n",
    "    gmm.fit(X)\n",
    "    meandist.append(\n",
    "        sum(\n",
    "        np.min(\n",
    "            cdist(X, gmm.means_, 'mahalanobis', VI=gmm.precisions_), \n",
    "            axis=1\n",
    "        ) / X.shape[0]\n",
    "        )\n",
    "    )\n",
    "plt.plot(n_clusters,meandist,'bx-')\n",
    "plt.xlabel('Number of Clusters') \n",
    "plt.ylabel('Mean Mahalanobis Distance') \n",
    "plt.title('GMM Clustering for n_cluster=2 to 15')\n",
    "plt.yscale(\"log\")\n",
    "plt.show()\n"
   ]
  },
  {
   "cell_type": "code",
   "execution_count": null,
   "metadata": {},
   "outputs": [],
   "source": [
    "# Choose clustering amount\n",
    "n = 4\n",
    "gmm = GaussianMixture(n_components=n)\n",
    "y_kmeans = gmm.fit_predict(X)\n",
    "\n",
    "# silouette score\n"
   ]
  },
  {
   "cell_type": "code",
   "execution_count": null,
   "metadata": {},
   "outputs": [],
   "source": [
    "from data_utils import graphPCA \n",
    "graphPCA(X, n, y_kmeans)"
   ]
  },
  {
   "cell_type": "code",
   "execution_count": null,
   "metadata": {},
   "outputs": [],
   "source": [
    "from data_utils import graphKPCA \n",
    "graphKPCA(X, n, y_kmeans)"
   ]
  }
 ],
 "metadata": {
  "kernelspec": {
   "display_name": "Python 3",
   "language": "python",
   "name": "python3"
  },
  "language_info": {
   "codemirror_mode": {
    "name": "ipython",
    "version": 3
   },
   "file_extension": ".py",
   "mimetype": "text/x-python",
   "name": "python",
   "nbconvert_exporter": "python",
   "pygments_lexer": "ipython3",
   "version": "3.12.2"
  }
 },
 "nbformat": 4,
 "nbformat_minor": 2
}
