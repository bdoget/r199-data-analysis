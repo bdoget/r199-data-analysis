{
 "cells": [
  {
   "cell_type": "code",
   "execution_count": null,
   "metadata": {},
   "outputs": [],
   "source": [
    "from sklearn.feature_selection import SelectKBest, f_classif\n",
    "\n",
    "fs = SelectKBest(score_func=f_classif,k='all')\n",
    "X_selected = fs.fit_transform(dfnorm, cluster_arr)\n",
    "\n",
    "\n",
    "from matplotlib import pyplot\n",
    "# what are scores for the features\n",
    "for i in range(len(fs.scores_)):\n",
    "\tprint('Feature %d: %f' % (i, fs.scores_[i]))\n",
    "# plot the scores\n",
    "pyplot.bar([i for i in range(len(fs.scores_))], fs.scores_)\n",
    "pyplot.show()\n",
    "\n",
    "# keep scores > 500\n",
    "keep = [i for i in range(len(fs.scores_)) if fs.scores_[i] > 500]\n",
    "print(keep,len(keep))"
   ]
  },
  {
   "cell_type": "code",
   "execution_count": null,
   "metadata": {},
   "outputs": [],
   "source": [
    "dfselect = dfnorm.iloc[:, keep]\n",
    "dfselect.to_csv(\"data/Selected_features.csv\")\n",
    "dfselect.columns"
   ]
  },
  {
   "cell_type": "code",
   "execution_count": null,
   "metadata": {},
   "outputs": [],
   "source": [
    "print([i for i in dfselect.columns if i in teaching_qual])\n",
    "print([i for i in dfselect.columns if i in teaching_quant])\n",
    "print([i for i in dfselect.columns if i in research_quant])"
   ]
  },
  {
   "cell_type": "code",
   "execution_count": null,
   "metadata": {},
   "outputs": [],
   "source": [
    "n = 6\n",
    "model = Birch(branching_factor = 50, n_clusters = n, threshold = 1.5)\n",
    "X = dfselect.copy()\n",
    "model.fit(X)\n",
    "cluster_arr = model.predict(X)"
   ]
  },
  {
   "cell_type": "code",
   "execution_count": null,
   "metadata": {},
   "outputs": [],
   "source": [
    "graphKPCA(X,n, cluster_arr)\n",
    "graphPCA(X,n, cluster_arr)"
   ]
  },
  {
   "cell_type": "code",
   "execution_count": null,
   "metadata": {},
   "outputs": [],
   "source": [
    "\n",
    "X = dfselect.copy()  # Your normalized dataset\n",
    "k = 6\n",
    "silhouette_scores = []\n",
    "n_clusters = range(2, k+1)  # Silhouette score is not defined for a single cluster\n",
    "\n",
    "for i in n_clusters:\n",
    "    # Initialize and fit the BIRCH model\n",
    "    model = Birch(branching_factor=50, n_clusters=i, threshold=1.5)\n",
    "    model.fit(X)\n",
    "    \n",
    "    # Predict the cluster labels\n",
    "    labels = model.predict(X)\n",
    "    \n",
    "    # Calculate the silhouette score and append it to the list\n",
    "    score = silhouette_score(X, labels)\n",
    "    silhouette_scores.append(score)\n",
    "\n",
    "# Plotting the silhouette scores\n",
    "plt.plot(n_clusters, silhouette_scores, 'bx-')\n",
    "plt.xlabel('Number of Clusters')\n",
    "plt.ylabel('Silhouette Score')\n",
    "plt.title('Silhouette Scores for BIRCH Clustering for n_clusters=2 to 20')\n",
    "plt.show()\n"
   ]
  },
  {
   "cell_type": "code",
   "execution_count": null,
   "metadata": {},
   "outputs": [],
   "source": [
    "for i in range(n):\n",
    "    print(i, \":\",len( dfselect[cluster_arr==i]))"
   ]
  }
 ],
 "metadata": {
  "language_info": {
   "name": "python"
  }
 },
 "nbformat": 4,
 "nbformat_minor": 2
}
